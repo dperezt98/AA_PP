{
 "cells": [
  {
   "cell_type": "markdown",
   "metadata": {},
   "source": [
    "# Algoritmos"
   ]
  },
  {
   "cell_type": "markdown",
   "metadata": {},
   "source": [
    "## Algoritmo IDE3\n"
   ]
  },
  {
   "cell_type": "markdown",
   "metadata": {},
   "source": [
    "### Requisitos\n",
    "Para el correcto funcionamiento del algoritmo será necesario instalar la librería networkx:"
   ]
  },
  {
   "cell_type": "code",
   "execution_count": null,
   "metadata": {},
   "outputs": [],
   "source": [
    "pip install networkx"
   ]
  },
  {
   "cell_type": "markdown",
   "metadata": {},
   "source": [
    "### Carga de datos\n",
    "Cargaremos un fichero **.csv** con los datos necesarios para generar el arbol de decisión IDE3. La última columna del dataset será la seleccionada para determinar la clase a la que pertenece cada ejemplo."
   ]
  },
  {
   "cell_type": "code",
   "execution_count": 1,
   "metadata": {},
   "outputs": [
    {
     "data": {
      "text/html": [
       "<div>\n",
       "<style scoped>\n",
       "    .dataframe tbody tr th:only-of-type {\n",
       "        vertical-align: middle;\n",
       "    }\n",
       "\n",
       "    .dataframe tbody tr th {\n",
       "        vertical-align: top;\n",
       "    }\n",
       "\n",
       "    .dataframe thead th {\n",
       "        text-align: right;\n",
       "    }\n",
       "</style>\n",
       "<table border=\"1\" class=\"dataframe\">\n",
       "  <thead>\n",
       "    <tr style=\"text-align: right;\">\n",
       "      <th></th>\n",
       "      <th>Antenas</th>\n",
       "      <th>Colas</th>\n",
       "      <th>Núcleos</th>\n",
       "      <th>Cuerpo</th>\n",
       "      <th>Clase</th>\n",
       "    </tr>\n",
       "  </thead>\n",
       "  <tbody>\n",
       "    <tr>\n",
       "      <th>0</th>\n",
       "      <td>1</td>\n",
       "      <td>0</td>\n",
       "      <td>2</td>\n",
       "      <td>Rayado</td>\n",
       "      <td>Normal</td>\n",
       "    </tr>\n",
       "    <tr>\n",
       "      <th>1</th>\n",
       "      <td>1</td>\n",
       "      <td>0</td>\n",
       "      <td>1</td>\n",
       "      <td>Blanco</td>\n",
       "      <td>Cancerígena</td>\n",
       "    </tr>\n",
       "    <tr>\n",
       "      <th>2</th>\n",
       "      <td>1</td>\n",
       "      <td>2</td>\n",
       "      <td>0</td>\n",
       "      <td>Rayado</td>\n",
       "      <td>Normal</td>\n",
       "    </tr>\n",
       "    <tr>\n",
       "      <th>3</th>\n",
       "      <td>0</td>\n",
       "      <td>2</td>\n",
       "      <td>1</td>\n",
       "      <td>Rayado</td>\n",
       "      <td>Normal</td>\n",
       "    </tr>\n",
       "    <tr>\n",
       "      <th>4</th>\n",
       "      <td>1</td>\n",
       "      <td>1</td>\n",
       "      <td>1</td>\n",
       "      <td>Rayado</td>\n",
       "      <td>Cancerígena</td>\n",
       "    </tr>\n",
       "    <tr>\n",
       "      <th>5</th>\n",
       "      <td>2</td>\n",
       "      <td>2</td>\n",
       "      <td>1</td>\n",
       "      <td>Rayado</td>\n",
       "      <td>Cancerígena</td>\n",
       "    </tr>\n",
       "  </tbody>\n",
       "</table>\n",
       "</div>"
      ],
      "text/plain": [
       "   Antenas  Colas  Núcleos  Cuerpo        Clase\n",
       "0        1      0        2  Rayado       Normal\n",
       "1        1      0        1  Blanco  Cancerígena\n",
       "2        1      2        0  Rayado       Normal\n",
       "3        0      2        1  Rayado       Normal\n",
       "4        1      1        1  Rayado  Cancerígena\n",
       "5        2      2        1  Rayado  Cancerígena"
      ]
     },
     "execution_count": 1,
     "metadata": {},
     "output_type": "execute_result"
    }
   ],
   "source": [
    "import pandas as pd\n",
    "dataset = pd.read_csv('examples_datasets/dataset_ide3_1.csv')\n",
    "dataset"
   ]
  },
  {
   "cell_type": "markdown",
   "metadata": {},
   "source": [
    "### Uso del algoritmo\n",
    "Importa la clase **algoritmo** del modulo **ide3.py**. Llamamos al método **generate_tree()**, y le pasamos el dataset previamente cargado para generar el árbol. Además, especificaremos si queremos mostrar todos los cálculos realizados por el algoritmo:"
   ]
  },
  {
   "cell_type": "code",
   "execution_count": 2,
   "metadata": {},
   "outputs": [
    {
     "name": "stdout",
     "output_type": "stream",
     "text": [
      "========== Decision Table 1 ==========\n",
      "----------------------------------------------\n",
      "|  Antenas Colas Núcleos  Cuerpo        Clase|\n",
      "----------------------------------------------\n",
      "|0       1     0       2  Rayado       Normal|\n",
      "|1       1     0       1  Blanco  Cancerígena|\n",
      "|2       1     2       0  Rayado       Normal|\n",
      "|3       0     2       1  Rayado       Normal|\n",
      "|4       1     1       1  Rayado  Cancerígena|\n",
      "|5       2     2       1  Rayado  Cancerígena|\n",
      "----------------------------------------------\n",
      "We must calculate earnings of all attributes from table 1\n",
      "I(Antenas) = I_1  + I_0 + I_2\n",
      "I(Antenas) --------------------------------\n",
      "\tEntropy Attribute value: 1 - We must calculate his entropy\n",
      "\tI_1_Normal = (-1)*(2/4)*log2(2/4) = 0.5\n",
      "\tI_1_Cancerígena = (-1)*(2/4)*log2(2/4) = 0.5\n",
      "\tI_1 = I_1_Normal + I_1_Cancerígena = 1.0\n",
      "I(Antenas) = 0 + (4/6) * I_1 = 0 + 1.0 = 0.6667\n",
      "\tEntropy Attribute value: 0 - We must calculate his entropy\n",
      "\tI_0_Normal = (-1)*(1/1)*log2(1/1) = -0.0\n",
      "\tI_0_Cancerígena = (-1)*(0/1)*log2(0/1) = 0.0\n",
      "\tI_0 = I_0_Normal + I_0_Cancerígena = 0.0\n",
      "I(Antenas) = 0.6667 + (1/6) * I_0 = 0.6667 + 0.0 = 0.6667\n",
      "\tEntropy Attribute value: 2 - We must calculate his entropy\n",
      "\tI_2_Normal = (-1)*(0/1)*log2(0/1) = 0.0\n",
      "\tI_2_Cancerígena = (-1)*(1/1)*log2(1/1) = -0.0\n",
      "\tI_2 = I_2_Normal + I_2_Cancerígena = 0.0\n",
      "I(Antenas) = 0.6667 + (1/6) * I_2 = 0.6667 + 0.0 = 0.6667\n",
      "Earning(Antenas) = 1 - I(Antenas) = 1 - 0.6667 = 0.3333\n",
      "\n",
      "I(Colas) = I_0  + I_2 + I_1\n",
      "I(Colas) --------------------------------\n",
      "\tEntropy Attribute value: 0 - We must calculate his entropy\n",
      "\tI_0_Normal = (-1)*(1/2)*log2(1/2) = 0.5\n",
      "\tI_0_Cancerígena = (-1)*(1/2)*log2(1/2) = 0.5\n",
      "\tI_0 = I_0_Normal + I_0_Cancerígena = 1.0\n",
      "I(Colas) = 0 + (2/6) * I_0 = 0 + 1.0 = 0.3333\n",
      "\tEntropy Attribute value: 2 - We must calculate his entropy\n",
      "\tI_2_Normal = (-1)*(2/3)*log2(2/3) = 0.39\n",
      "\tI_2_Cancerígena = (-1)*(1/3)*log2(1/3) = 0.5283\n",
      "\tI_2 = I_2_Normal + I_2_Cancerígena = 0.9183\n",
      "I(Colas) = 0.3333 + (3/6) * I_2 = 0.3333 + 0.9183 = 0.7924\n",
      "\tEntropy Attribute value: 1 - We must calculate his entropy\n",
      "\tI_1_Normal = (-1)*(0/1)*log2(0/1) = 0.0\n",
      "\tI_1_Cancerígena = (-1)*(1/1)*log2(1/1) = -0.0\n",
      "\tI_1 = I_1_Normal + I_1_Cancerígena = 0.0\n",
      "I(Colas) = 0.7925 + (1/6) * I_1 = 0.7925 + 0.0 = 0.7925\n",
      "Earning(Colas) = 1 - I(Colas) = 1 - 0.7925 = 0.2075\n",
      "\n",
      "I(Núcleos) = I_2  + I_1 + I_0\n",
      "I(Núcleos) --------------------------------\n",
      "\tEntropy Attribute value: 2 - We must calculate his entropy\n",
      "\tI_2_Normal = (-1)*(1/1)*log2(1/1) = -0.0\n",
      "\tI_2_Cancerígena = (-1)*(0/1)*log2(0/1) = 0.0\n",
      "\tI_2 = I_2_Normal + I_2_Cancerígena = 0.0\n",
      "I(Núcleos) = 0 + (1/6) * I_2 = 0 + 0.0 = 0.0\n",
      "\tEntropy Attribute value: 1 - We must calculate his entropy\n",
      "\tI_1_Normal = (-1)*(1/4)*log2(1/4) = 0.5\n",
      "\tI_1_Cancerígena = (-1)*(3/4)*log2(3/4) = 0.3113\n",
      "\tI_1 = I_1_Normal + I_1_Cancerígena = 0.8113\n",
      "I(Núcleos) = 0.0 + (4/6) * I_1 = 0.0 + 0.8113 = 0.5409\n",
      "\tEntropy Attribute value: 0 - We must calculate his entropy\n",
      "\tI_0_Normal = (-1)*(1/1)*log2(1/1) = -0.0\n",
      "\tI_0_Cancerígena = (-1)*(0/1)*log2(0/1) = 0.0\n",
      "\tI_0 = I_0_Normal + I_0_Cancerígena = 0.0\n",
      "I(Núcleos) = 0.5409 + (1/6) * I_0 = 0.5409 + 0.0 = 0.5409\n",
      "Earning(Núcleos) = 1 - I(Núcleos) = 1 - 0.5409 = 0.4591\n",
      "\n",
      "I(Cuerpo) = I_Rayado  + I_Blanco\n",
      "I(Cuerpo) --------------------------------\n",
      "\tEntropy Attribute value: Rayado - We must calculate his entropy\n",
      "\tI_Rayado_Normal = (-1)*(3/5)*log2(3/5) = 0.4422\n",
      "\tI_Rayado_Cancerígena = (-1)*(2/5)*log2(2/5) = 0.5288\n",
      "\tI_Rayado = I_Rayado_Normal + I_Rayado_Cancerígena = 0.971\n",
      "I(Cuerpo) = 0 + (5/6) * I_Rayado = 0 + 0.971 = 0.8091\n",
      "\tEntropy Attribute value: Blanco - We must calculate his entropy\n",
      "\tI_Blanco_Normal = (-1)*(0/1)*log2(0/1) = 0.0\n",
      "\tI_Blanco_Cancerígena = (-1)*(1/1)*log2(1/1) = -0.0\n",
      "\tI_Blanco = I_Blanco_Normal + I_Blanco_Cancerígena = 0.0\n",
      "I(Cuerpo) = 0.8091 + (1/6) * I_Blanco = 0.8091 + 0.0 = 0.8091\n",
      "Earning(Cuerpo) = 1 - I(Cuerpo) = 1 - 0.8091 = 0.1909\n",
      "\n",
      "Earning_list(Antenas, Colas, Núcleos, Cuerpo) = (0.3333, 0.2075, 0.4591, 0.1909)\n",
      "The attribute with higher earning is 'Núcleos'\n",
      "\n",
      "DECISION NODE(Núcleos)\n",
      "\tWhen (Núcleos = 2) we get:\n",
      "\t---------------------------------\n",
      "\t|  Antenas Colas  Cuerpo   Clase|\n",
      "\t---------------------------------\n",
      "\t|0       1     0  Rayado  Normal|\n",
      "\t---------------------------------\n",
      "\tLEAF NODE(Normal)\n",
      "\n",
      "\tWhen (Núcleos = 1) we get:\n",
      "\t========== Decision Table 2 ==========\n",
      "\t--------------------------------------\n",
      "\t|  Antenas Colas  Cuerpo        Clase|\n",
      "\t--------------------------------------\n",
      "\t|1       1     0  Blanco  Cancerígena|\n",
      "\t|3       0     2  Rayado       Normal|\n",
      "\t|4       1     1  Rayado  Cancerígena|\n",
      "\t|5       2     2  Rayado  Cancerígena|\n",
      "\t--------------------------------------\n",
      "\tWe must calculate earnings of all attributes from table 2\n",
      "\tI(Antenas) = I_1  + I_0 + I_2\n",
      "\tI(Antenas) --------------------------------\n",
      "\t\tEntropy Attribute value: 1 - We must calculate his entropy\n",
      "\t\tI_1_Normal = (-1)*(0/2)*log2(0/2) = 0.0\n",
      "\t\tI_1_Cancerígena = (-1)*(2/2)*log2(2/2) = -0.0\n",
      "\t\tI_1 = I_1_Normal + I_1_Cancerígena = 0.0\n",
      "\tI(Antenas) = 0 + (2/4) * I_1 = 0 + 0.0 = 0.0\n",
      "\t\tEntropy Attribute value: 0 - We must calculate his entropy\n",
      "\t\tI_0_Normal = (-1)*(1/1)*log2(1/1) = -0.0\n",
      "\t\tI_0_Cancerígena = (-1)*(0/1)*log2(0/1) = 0.0\n",
      "\t\tI_0 = I_0_Normal + I_0_Cancerígena = 0.0\n",
      "\tI(Antenas) = 0.0 + (1/4) * I_0 = 0.0 + 0.0 = 0.0\n",
      "\t\tEntropy Attribute value: 2 - We must calculate his entropy\n",
      "\t\tI_2_Normal = (-1)*(0/1)*log2(0/1) = 0.0\n",
      "\t\tI_2_Cancerígena = (-1)*(1/1)*log2(1/1) = -0.0\n",
      "\t\tI_2 = I_2_Normal + I_2_Cancerígena = 0.0\n",
      "\tI(Antenas) = 0.0 + (1/4) * I_2 = 0.0 + 0.0 = 0.0\n",
      "\tEarning(Antenas) = 1 - I(Antenas) = 1 - 0.0 = 1.0\n",
      "\n",
      "\tI(Colas) = I_0  + I_2 + I_1\n",
      "\tI(Colas) --------------------------------\n",
      "\t\tEntropy Attribute value: 0 - We must calculate his entropy\n",
      "\t\tI_0_Normal = (-1)*(0/1)*log2(0/1) = 0.0\n",
      "\t\tI_0_Cancerígena = (-1)*(1/1)*log2(1/1) = -0.0\n",
      "\t\tI_0 = I_0_Normal + I_0_Cancerígena = 0.0\n",
      "\tI(Colas) = 0 + (1/4) * I_0 = 0 + 0.0 = 0.0\n",
      "\t\tEntropy Attribute value: 2 - We must calculate his entropy\n",
      "\t\tI_2_Normal = (-1)*(1/2)*log2(1/2) = 0.5\n",
      "\t\tI_2_Cancerígena = (-1)*(1/2)*log2(1/2) = 0.5\n",
      "\t\tI_2 = I_2_Normal + I_2_Cancerígena = 1.0\n",
      "\tI(Colas) = 0.0 + (2/4) * I_2 = 0.0 + 1.0 = 0.5\n",
      "\t\tEntropy Attribute value: 1 - We must calculate his entropy\n",
      "\t\tI_1_Normal = (-1)*(0/1)*log2(0/1) = 0.0\n",
      "\t\tI_1_Cancerígena = (-1)*(1/1)*log2(1/1) = -0.0\n",
      "\t\tI_1 = I_1_Normal + I_1_Cancerígena = 0.0\n",
      "\tI(Colas) = 0.5 + (1/4) * I_1 = 0.5 + 0.0 = 0.5\n",
      "\tEarning(Colas) = 1 - I(Colas) = 1 - 0.5 = 0.5\n",
      "\n",
      "\tI(Cuerpo) = I_Rayado  + I_Blanco\n",
      "\tI(Cuerpo) --------------------------------\n",
      "\t\tEntropy Attribute value: Rayado - We must calculate his entropy\n",
      "\t\tI_Rayado_Normal = (-1)*(1/3)*log2(1/3) = 0.5283\n",
      "\t\tI_Rayado_Cancerígena = (-1)*(2/3)*log2(2/3) = 0.39\n",
      "\t\tI_Rayado = I_Rayado_Normal + I_Rayado_Cancerígena = 0.9183\n",
      "\tI(Cuerpo) = 0 + (3/4) * I_Rayado = 0 + 0.9183 = 0.6887\n",
      "\t\tEntropy Attribute value: Blanco - We must calculate his entropy\n",
      "\t\tI_Blanco_Normal = (-1)*(0/1)*log2(0/1) = 0.0\n",
      "\t\tI_Blanco_Cancerígena = (-1)*(1/1)*log2(1/1) = -0.0\n",
      "\t\tI_Blanco = I_Blanco_Normal + I_Blanco_Cancerígena = 0.0\n",
      "\tI(Cuerpo) = 0.6887 + (1/4) * I_Blanco = 0.6887 + 0.0 = 0.6887\n",
      "\tEarning(Cuerpo) = 1 - I(Cuerpo) = 1 - 0.6887 = 0.3113\n",
      "\n",
      "\tEarning_list(Antenas, Colas, Cuerpo) = (1.0, 0.5, 0.3113)\n",
      "\tThe attribute with higher earning is 'Antenas'\n",
      "\n",
      "\tDECISION NODE(Antenas)\n",
      "\t\tWhen (Antenas = 1) we get:\n",
      "\t\t------------------------------\n",
      "\t\t|  Colas  Cuerpo        Clase|\n",
      "\t\t------------------------------\n",
      "\t\t|1     0  Blanco  Cancerígena|\n",
      "\t\t|4     1  Rayado  Cancerígena|\n",
      "\t\t------------------------------\n",
      "\t\tLEAF NODE(Cancerígena)\n",
      "\n",
      "\t\tWhen (Antenas = 0) we get:\n",
      "\t\t-------------------------\n",
      "\t\t|  Colas  Cuerpo   Clase|\n",
      "\t\t-------------------------\n",
      "\t\t|3     2  Rayado  Normal|\n",
      "\t\t-------------------------\n",
      "\t\tLEAF NODE(Normal)\n",
      "\n",
      "\t\tWhen (Antenas = 2) we get:\n",
      "\t\t------------------------------\n",
      "\t\t|  Colas  Cuerpo        Clase|\n",
      "\t\t------------------------------\n",
      "\t\t|5     2  Rayado  Cancerígena|\n",
      "\t\t------------------------------\n",
      "\t\tLEAF NODE(Cancerígena)\n",
      "\n",
      "\tWhen (Núcleos = 0) we get:\n",
      "\t---------------------------------\n",
      "\t|  Antenas Colas  Cuerpo   Clase|\n",
      "\t---------------------------------\n",
      "\t|2       1     2  Rayado  Normal|\n",
      "\t---------------------------------\n",
      "\tLEAF NODE(Normal)\n",
      "\n"
     ]
    }
   ],
   "source": [
    "from algorithms import ide3\n",
    "alg = ide3.algorithm()\n",
    "show = True\n",
    "alg.generate_tree(dataset, show)"
   ]
  },
  {
   "cell_type": "markdown",
   "metadata": {},
   "source": [
    "Podemos representar el árbol de decisión invocando al método **draw_tree()** de la clase."
   ]
  },
  {
   "cell_type": "code",
   "execution_count": 8,
   "metadata": {},
   "outputs": [
    {
     "data": {
      "image/png": "[encoded data removed]",
      "text/plain": [
       "<Figure size 432x288 with 1 Axes>"
      ]
     },
     "metadata": {},
     "output_type": "display_data"
    }
   ],
   "source": [
    "alg.draw_tree()"
   ]
  },
  {
   "cell_type": "markdown",
   "metadata": {},
   "source": [
    "Para clasificar nuevos ejemplos, cargamos un nuevo dataset que solo contenga los atributos utilizados para generar el árbol de decisión (en este ejemplo, los atributos son: ['Antenas', 'Colas', 'Núcleos', 'Cuerpo'])."
   ]
  },
  {
   "cell_type": "code",
   "execution_count": 4,
   "metadata": {},
   "outputs": [
    {
     "data": {
      "text/html": [
       "<div>\n",
       "<style scoped>\n",
       "    .dataframe tbody tr th:only-of-type {\n",
       "        vertical-align: middle;\n",
       "    }\n",
       "\n",
       "    .dataframe tbody tr th {\n",
       "        vertical-align: top;\n",
       "    }\n",
       "\n",
       "    .dataframe thead th {\n",
       "        text-align: right;\n",
       "    }\n",
       "</style>\n",
       "<table border=\"1\" class=\"dataframe\">\n",
       "  <thead>\n",
       "    <tr style=\"text-align: right;\">\n",
       "      <th></th>\n",
       "      <th>Antenas</th>\n",
       "      <th>Colas</th>\n",
       "      <th>Núcleos</th>\n",
       "      <th>Cuerpo</th>\n",
       "    </tr>\n",
       "  </thead>\n",
       "  <tbody>\n",
       "    <tr>\n",
       "      <th>0</th>\n",
       "      <td>1</td>\n",
       "      <td>0</td>\n",
       "      <td>2</td>\n",
       "      <td>Rayado</td>\n",
       "    </tr>\n",
       "    <tr>\n",
       "      <th>1</th>\n",
       "      <td>1</td>\n",
       "      <td>1</td>\n",
       "      <td>1</td>\n",
       "      <td>Blanco</td>\n",
       "    </tr>\n",
       "    <tr>\n",
       "      <th>2</th>\n",
       "      <td>1</td>\n",
       "      <td>2</td>\n",
       "      <td>0</td>\n",
       "      <td>Blanco</td>\n",
       "    </tr>\n",
       "    <tr>\n",
       "      <th>3</th>\n",
       "      <td>0</td>\n",
       "      <td>1</td>\n",
       "      <td>1</td>\n",
       "      <td>Rayado</td>\n",
       "    </tr>\n",
       "  </tbody>\n",
       "</table>\n",
       "</div>"
      ],
      "text/plain": [
       "   Antenas  Colas  Núcleos  Cuerpo\n",
       "0        1      0        2  Rayado\n",
       "1        1      1        1  Blanco\n",
       "2        1      2        0  Blanco\n",
       "3        0      1        1  Rayado"
      ]
     },
     "execution_count": 4,
     "metadata": {},
     "output_type": "execute_result"
    }
   ],
   "source": [
    "dataset_test = pd.read_csv('examples_datasets/dataset_ide3_test.csv')\n",
    "dataset_test"
   ]
  },
  {
   "cell_type": "markdown",
   "metadata": {},
   "source": [
    "Ahora, utilizamos el método **predict()** de la clase para clasificar los nuevos ejemplos. El método nos devolverá un nuevo dataset con los ejemplos ya clasificados."
   ]
  },
  {
   "cell_type": "code",
   "execution_count": 5,
   "metadata": {},
   "outputs": [
    {
     "data": {
      "text/html": [
       "<div>\n",
       "<style scoped>\n",
       "    .dataframe tbody tr th:only-of-type {\n",
       "        vertical-align: middle;\n",
       "    }\n",
       "\n",
       "    .dataframe tbody tr th {\n",
       "        vertical-align: top;\n",
       "    }\n",
       "\n",
       "    .dataframe thead th {\n",
       "        text-align: right;\n",
       "    }\n",
       "</style>\n",
       "<table border=\"1\" class=\"dataframe\">\n",
       "  <thead>\n",
       "    <tr style=\"text-align: right;\">\n",
       "      <th></th>\n",
       "      <th>Antenas</th>\n",
       "      <th>Colas</th>\n",
       "      <th>Núcleos</th>\n",
       "      <th>Cuerpo</th>\n",
       "      <th>Clase</th>\n",
       "    </tr>\n",
       "  </thead>\n",
       "  <tbody>\n",
       "    <tr>\n",
       "      <th>0</th>\n",
       "      <td>1</td>\n",
       "      <td>0</td>\n",
       "      <td>2</td>\n",
       "      <td>Rayado</td>\n",
       "      <td>Normal</td>\n",
       "    </tr>\n",
       "    <tr>\n",
       "      <th>1</th>\n",
       "      <td>1</td>\n",
       "      <td>1</td>\n",
       "      <td>1</td>\n",
       "      <td>Blanco</td>\n",
       "      <td>Cancerígena</td>\n",
       "    </tr>\n",
       "    <tr>\n",
       "      <th>2</th>\n",
       "      <td>1</td>\n",
       "      <td>2</td>\n",
       "      <td>0</td>\n",
       "      <td>Blanco</td>\n",
       "      <td>Normal</td>\n",
       "    </tr>\n",
       "    <tr>\n",
       "      <th>3</th>\n",
       "      <td>0</td>\n",
       "      <td>1</td>\n",
       "      <td>1</td>\n",
       "      <td>Rayado</td>\n",
       "      <td>Normal</td>\n",
       "    </tr>\n",
       "  </tbody>\n",
       "</table>\n",
       "</div>"
      ],
      "text/plain": [
       "   Antenas  Colas  Núcleos  Cuerpo        Clase\n",
       "0        1      0        2  Rayado       Normal\n",
       "1        1      1        1  Blanco  Cancerígena\n",
       "2        1      2        0  Blanco       Normal\n",
       "3        0      1        1  Rayado       Normal"
      ]
     },
     "execution_count": 5,
     "metadata": {},
     "output_type": "execute_result"
    }
   ],
   "source": [
    "alg.predict(dataset_test)"
   ]
  },
  {
   "cell_type": "markdown",
   "metadata": {},
   "source": [
    "## Regresión lineal"
   ]
  },
  {
   "cell_type": "markdown",
   "metadata": {},
   "source": [
    "### Carga de datos\n",
    "Cargaremos un fichero **.csv** con los datos necesarios para calcular la recta de regresión o aplicar el algoritmo de descenso por gradiente. El dataset debe tener dos columnas, una para los valores de 'x' y otro para los de 'y'."
   ]
  },
  {
   "cell_type": "code",
   "execution_count": 1,
   "metadata": {},
   "outputs": [
    {
     "data": {
      "text/html": [
       "<div>\n",
       "<style scoped>\n",
       "    .dataframe tbody tr th:only-of-type {\n",
       "        vertical-align: middle;\n",
       "    }\n",
       "\n",
       "    .dataframe tbody tr th {\n",
       "        vertical-align: top;\n",
       "    }\n",
       "\n",
       "    .dataframe thead th {\n",
       "        text-align: right;\n",
       "    }\n",
       "</style>\n",
       "<table border=\"1\" class=\"dataframe\">\n",
       "  <thead>\n",
       "    <tr style=\"text-align: right;\">\n",
       "      <th></th>\n",
       "      <th>x</th>\n",
       "      <th>y</th>\n",
       "    </tr>\n",
       "  </thead>\n",
       "  <tbody>\n",
       "    <tr>\n",
       "      <th>0</th>\n",
       "      <td>1</td>\n",
       "      <td>1.5</td>\n",
       "    </tr>\n",
       "    <tr>\n",
       "      <th>1</th>\n",
       "      <td>2</td>\n",
       "      <td>2.0</td>\n",
       "    </tr>\n",
       "    <tr>\n",
       "      <th>2</th>\n",
       "      <td>3</td>\n",
       "      <td>2.5</td>\n",
       "    </tr>\n",
       "    <tr>\n",
       "      <th>3</th>\n",
       "      <td>4</td>\n",
       "      <td>4.0</td>\n",
       "    </tr>\n",
       "  </tbody>\n",
       "</table>\n",
       "</div>"
      ],
      "text/plain": [
       "   x    y\n",
       "0  1  1.5\n",
       "1  2  2.0\n",
       "2  3  2.5\n",
       "3  4  4.0"
      ]
     },
     "execution_count": 1,
     "metadata": {},
     "output_type": "execute_result"
    }
   ],
   "source": [
    "import numpy as np\n",
    "import pandas as pd\n",
    "dataset = pd.read_csv(\"examples_datasets/dataset_lineal_regresion_1.csv\")\n",
    "dataset"
   ]
  },
  {
   "cell_type": "markdown",
   "metadata": {},
   "source": [
    "### Uso del algoritmo\n",
    "Importa la clase **algoritmo** del modulo **lineal_regresion.py**. Ahora tenemos distintas funcionalidades disponibles. Podemos representar el conjunto de datos:"
   ]
  },
  {
   "cell_type": "code",
   "execution_count": 2,
   "metadata": {},
   "outputs": [
    {
     "data": {
      "image/png": "[encoded data removed]",
      "text/plain": [
       "<Figure size 432x288 with 1 Axes>"
      ]
     },
     "metadata": {},
     "output_type": "display_data"
    }
   ],
   "source": [
    "from algorithms import lineal_regresion\n",
    "lr = lineal_regresion.algorithm()\n",
    "lr.represent_dataset(dataset)"
   ]
  },
  {
   "cell_type": "markdown",
   "metadata": {},
   "source": [
    "Para calcular los valores de theta en la recta de regresión, primero preparamos el dataset. Y después le pasamos los datos la función **calculate_theta()**"
   ]
  },
  {
   "cell_type": "code",
   "execution_count": 3,
   "metadata": {},
   "outputs": [
    {
     "name": "stdout",
     "output_type": "stream",
     "text": [
      "-------------- Formulas --------------\n",
      "Θ = inv(X_t * X) * X_t * Y\n",
      "--------------------------------------\n",
      "\n",
      "A = X_t * X = [4.0 10.0]\n",
      "              [10.0 30.0]\n",
      "\n",
      "-----------inv(A)-----------\n",
      "inv(A) = (1/det(A)) * Cofactor(A_t)\n",
      "\n",
      "A = [a b] | det(A) = a*d - b*c = 4.0*30.0 - 10.0*10.0 = 20.0\n",
      "    [c d]\n",
      "\n",
      "A_t = [4.0 10.0]\n",
      "      [10.0 30.0]\n",
      "\n",
      "Cof(A_t) = [d -c] = [30.0 -10.0]\n",
      "           [-b a]   [-10.0 4.0]\n",
      "\n",
      "inv(A) = 1/20.0 * [30.0 -10.0] = [1.5 -0.5]\n",
      "                  [-10.0 4.0]    [-0.5 0.2]\n",
      "----------------------------\n",
      "Θ = inv(A) * X_t * Y = B * Y\n",
      "\n",
      "B = inv(A) * X_t = \n",
      "[[ 1.   0.5  0.  -0.5]\n",
      " [-0.3 -0.1  0.1  0.3]]\n",
      "\n",
      "Θ = B * Y\n",
      "\n",
      "Θ = [0.5 0.8]\n"
     ]
    }
   ],
   "source": [
    "show = True\n",
    "X, Y = lr.prepare_dataset(dataset)\n",
    "theta = lr.calculate_theta(X, Y, show)"
   ]
  },
  {
   "cell_type": "markdown",
   "metadata": {},
   "source": [
    "Con los valores de theta ya calculados, podemos **representar** la recta junto a los datos con la función **represent_regresion()**"
   ]
  },
  {
   "cell_type": "code",
   "execution_count": 4,
   "metadata": {},
   "outputs": [
    {
     "data": {
      "image/png": "[encoded data removed]",
      "text/plain": [
       "<Figure size 432x288 with 1 Axes>"
      ]
     },
     "metadata": {},
     "output_type": "display_data"
    }
   ],
   "source": [
    "lr.represent_regresion(dataset, theta)"
   ]
  },
  {
   "cell_type": "markdown",
   "metadata": {},
   "source": [
    "Y además, podemos **calcular un nuevo valor de x**"
   ]
  },
  {
   "cell_type": "code",
   "execution_count": 6,
   "metadata": {},
   "outputs": [
    {
     "name": "stdout",
     "output_type": "stream",
     "text": [
      "y(5.5) = 0.5 + 0.8 * 5.5 = 4.9\n"
     ]
    }
   ],
   "source": [
    "show = True\n",
    "x = 5.5\n",
    "y = lr.y(theta, x, show)"
   ]
  },
  {
   "cell_type": "markdown",
   "metadata": {},
   "source": [
    "Para calcular el valor de la función de costo para un determinado valor theta, utilizaremos la función **lost_function()**. En este caso, calcularemos su valor cuando __θ_0 = 3__ y cuando __θ_1 = 1__."
   ]
  },
  {
   "cell_type": "code",
   "execution_count": 7,
   "metadata": {},
   "outputs": [
    {
     "name": "stdout",
     "output_type": "stream",
     "text": [
      "-------------- Formulas --------------\n",
      "J(Θ) = (1/2) * SUM_j_to_m[ (h_theta(x_j) - y_j)^2 ]\n",
      "hθ(x) = SUM_j_to_m[ x_j *  θ_j]\n",
      "--------------------------------------\n",
      "\n",
      "J(Θ) = (1/2) * [([1.0*3 + 1.01] - 1.5)^2 + ([1.0*3 + 2.01] - 2.0)^2 + ([1.0*3 + 3.01] - 2.5)^2 + ([1.0*3 + 4.01] - 4.0)^2 ]\n",
      "J(Θ) = (1/2) * [6.25 + 9.0 + 12.25 + 9.0] = 18.25\n",
      "\n",
      "J(Θ) = 18.25\n"
     ]
    }
   ],
   "source": [
    "show = True\n",
    "theta = np.array([3, 1])\n",
    "lost = lr.lost_function(X, Y, theta, show)"
   ]
  },
  {
   "cell_type": "markdown",
   "metadata": {},
   "source": [
    "Para realizar el **descenso por gradiente** usaremos la función **gradient_descent()**. Además, de los datos comentandos previamente. Deberemos especificar el **número de iteraciones** a realizar por el algoritmo y el factor de aprendizaje **alpha**."
   ]
  },
  {
   "cell_type": "code",
   "execution_count": 8,
   "metadata": {},
   "outputs": [
    {
     "name": "stdout",
     "output_type": "stream",
     "text": [
      "-------------- Formulas --------------\n",
      "θj' = θj + α * Σ_i_to_m[ (h_θ(x_i) - y_i) * x_ij ]\n",
      "--------------------------------------\n",
      "\n",
      "-------------- Iteration 1 --------------\n",
      "θ0' = θ0 + (0.1)[ ([1.0*3 + 1.0*1] - 1.5) * 1.0  + ([1.0*3 + 2.0*1] - 1.5) * 1.0  + ([1.0*3 + 3.0*1] - 1.5) * 1.0  + ([1.0*3 + 4.0*1] - 1.5) * 1.0 ]\n",
      "θ0' = θ0 + (0.1)[ 2.5 + 3.0  + 3.5  + 3.0 ] = 4.2\n",
      "\n",
      "θ1' = θ1 + (0.1)[ ([1.0*3 + 1.0*1] - 2.0) * 1.0  + ([1.0*3 + 2.0*1] - 2.0) * 2.0  + ([1.0*3 + 3.0*1] - 2.0) * 3.0  + ([1.0*3 + 4.0*1] - 2.0) * 4.0 ]\n",
      "θ1' = θ1 + (0.1)[ 2.5 + 6.0  + 10.5  + 12.0 ] = 4.1\n",
      "\n",
      "[θ0, θ1] = [4.2, 4.1]\n",
      "\n"
     ]
    }
   ],
   "source": [
    "n_iterations = 1 # Numero de iteraciones\n",
    "alpha = 0.1 # Factor de aprendizaje\n",
    "theta_prima = lr.gradient_descent(X, Y, theta, alpha, n_iterations, show)"
   ]
  },
  {
   "cell_type": "markdown",
   "metadata": {},
   "source": [
    "Y como hicimos anteriormente, también podemos representar los datos para los nuevos valores de theta"
   ]
  },
  {
   "cell_type": "code",
   "execution_count": 9,
   "metadata": {},
   "outputs": [
    {
     "data": {
      "image/png": "[encoded data removed]",
      "text/plain": [
       "<Figure size 432x288 with 1 Axes>"
      ]
     },
     "metadata": {},
     "output_type": "display_data"
    }
   ],
   "source": [
    "lr.represent_regresion(dataset, theta_prima)"
   ]
  },
  {
   "cell_type": "code",
   "execution_count": null,
   "metadata": {},
   "outputs": [],
   "source": []
  }
 ],
 "metadata": {
  "kernelspec": {
   "display_name": "Python 3 (ipykernel)",
   "language": "python",
   "name": "python3"
  },
  "language_info": {
   "codemirror_mode": {
    "name": "ipython",
    "version": 3
   },
   "file_extension": ".py",
   "mimetype": "text/x-python",
   "name": "python",
   "nbconvert_exporter": "python",
   "pygments_lexer": "ipython3",
   "version": "3.9.7"
  },
  "vscode": {
   "interpreter": {
    "hash": "0f2f6c680cf484319d387fabac80ca4ff4fc33965036e02100b3fe02600f1423"
   }
  }
 },
 "nbformat": 4,
 "nbformat_minor": 2
}
